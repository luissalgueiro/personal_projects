{
 "cells": [
  {
   "cell_type": "code",
   "execution_count": 1,
   "id": "7f4672eb-c490-46ea-87b7-513d5fb800b7",
   "metadata": {},
   "outputs": [
    {
     "name": "stdout",
     "output_type": "stream",
     "text": [
      "/d/github/personal-projects/chatbot/env_chatbot/Scripts/python\n"
     ]
    }
   ],
   "source": [
    "!which python\n"
   ]
  },
  {
   "cell_type": "code",
   "execution_count": 2,
   "id": "3f14f05f-1ba7-4a60-acac-853cc6862647",
   "metadata": {},
   "outputs": [],
   "source": [
    "import nltk"
   ]
  },
  {
   "cell_type": "code",
   "execution_count": 14,
   "id": "73619c7c-ee11-4d59-b607-1fffababc1c2",
   "metadata": {},
   "outputs": [
    {
     "name": "stderr",
     "output_type": "stream",
     "text": [
      "[nltk_data] Downloading package punkt to\n",
      "[nltk_data]     C:\\Users\\Luis\\AppData\\Roaming\\nltk_data...\n",
      "[nltk_data]   Package punkt is already up-to-date!\n",
      "[nltk_data] Downloading package punkt_tab to\n",
      "[nltk_data]     C:\\Users\\Luis\\AppData\\Roaming\\nltk_data...\n",
      "[nltk_data]   Unzipping tokenizers\\punkt_tab.zip.\n"
     ]
    },
    {
     "data": {
      "text/plain": [
       "True"
      ]
     },
     "execution_count": 14,
     "metadata": {},
     "output_type": "execute_result"
    }
   ],
   "source": [
    "nltk.download('punkt')\n",
    "nltk.download('punkt_tab')"
   ]
  },
  {
   "cell_type": "code",
   "execution_count": 15,
   "id": "41aa913a-efe2-4069-871e-250d2badd4e9",
   "metadata": {},
   "outputs": [],
   "source": [
    "from nltk.stem import PorterStemmer"
   ]
  },
  {
   "cell_type": "code",
   "execution_count": 16,
   "id": "b81f3a10-97b6-4b84-811f-a7073f8d6f4f",
   "metadata": {},
   "outputs": [],
   "source": [
    "stemmer = PorterStemmer()"
   ]
  },
  {
   "cell_type": "code",
   "execution_count": 17,
   "id": "da540b30-6c33-44f5-b5bd-5e1c055b0884",
   "metadata": {},
   "outputs": [],
   "source": [
    "import tensorflow as tf"
   ]
  },
  {
   "cell_type": "code",
   "execution_count": 18,
   "id": "8bbe6954-ba84-4883-866c-072ee4948fb5",
   "metadata": {},
   "outputs": [],
   "source": [
    "import numpy as np\n",
    "import random\n",
    "import json"
   ]
  },
  {
   "cell_type": "markdown",
   "id": "aed28884-1e24-4b57-b78c-b5cbb43b70d9",
   "metadata": {},
   "source": [
    "# Importing chatbot intents file"
   ]
  },
  {
   "cell_type": "code",
   "execution_count": 19,
   "id": "a6b46689-f67f-41b1-aecd-665725d89429",
   "metadata": {},
   "outputs": [],
   "source": [
    "with open('intents.json') as json_file:\n",
    "    intents = json.load(json_file)"
   ]
  },
  {
   "cell_type": "code",
   "execution_count": 20,
   "id": "f3dc51fe-c448-4b57-83a4-861eff86b092",
   "metadata": {},
   "outputs": [
    {
     "data": {
      "text/plain": [
       "{'intents': [{'tag': 'greeting',\n",
       "   'patterns': ['Hi', 'How are you', 'Is anyone there?', 'Hello', 'Good day'],\n",
       "   'responses': ['Hello, thanks for visiting',\n",
       "    'Good to see you again',\n",
       "    'Hi there, how can I help?'],\n",
       "   'context_set': ''},\n",
       "  {'tag': 'goodbye',\n",
       "   'patterns': ['Bye', 'See you later', 'Goodbye'],\n",
       "   'responses': ['See you later, thanks for visiting',\n",
       "    'Have a nice day',\n",
       "    'Bye! Come back again soon.']},\n",
       "  {'tag': 'thanks',\n",
       "   'patterns': ['Thanks', 'Thank you', \"That's helpful\"],\n",
       "   'responses': ['Happy to help!', 'Any time!', 'My pleasure']},\n",
       "  {'tag': 'chatbot',\n",
       "   'patterns': ['Who built this chatbot?',\n",
       "    'Tell me about Chatbot',\n",
       "    'What is this chatbot name?'],\n",
       "   'responses': ['Hi, I am Chatbot designed by Mayank.',\n",
       "    'Thanks for asking. I am designed by Mayank Bajaj.',\n",
       "    'I am a chatbot.']},\n",
       "  {'tag': 'location',\n",
       "   'patterns': ['What is your location?',\n",
       "    'Where are you located?',\n",
       "    'What is your address?'],\n",
       "   'responses': [\"We are from World's largest Democracy India.\",\n",
       "    'You can visit India to meet us',\n",
       "    'Thans for your Interest. I live in India.']},\n",
       "  {'tag': 'connect',\n",
       "   'patterns': ['Give me your social media accounts link',\n",
       "    'Where can we connect',\n",
       "    'How can i reach out to you?',\n",
       "    'Is there any way we can connect'],\n",
       "   'responses': ['You can connect me on Linkedin or Github \\n Linkedin - https://www.linkedin.com/in/mayank-bajaj/ \\n Github - https://github.com/mayank8200',\n",
       "    'You can visit https://mayank-bajaj.me']},\n",
       "  {'tag': 'movies',\n",
       "   'patterns': ['Which is your favourite movie?',\n",
       "    'Suggest me some movies',\n",
       "    'Recommend movies'],\n",
       "   'responses': ['3 idiots',\n",
       "    'Hera Pheri',\n",
       "    'Lage Raho Munna Bhai',\n",
       "    'OMG: Oh My God!',\n",
       "    'PK',\n",
       "    'Yeh Jawani hai Deewani',\n",
       "    'Zindagi na Milegi Doobara',\n",
       "    'Ludo']},\n",
       "  {'tag': 'about',\n",
       "   'patterns': ['Who are you?', 'Tell me about Yourself', 'What is this?'],\n",
       "   'responses': ['Hi, I am Mayank. Nice to meet you. I made this chatbot for fun and practice.',\n",
       "    'Thanks for asking. I am Mayank Bajaj, coder by profession but ML enthusiast by passion.']}]}"
      ]
     },
     "execution_count": 20,
     "metadata": {},
     "output_type": "execute_result"
    }
   ],
   "source": [
    "intents"
   ]
  },
  {
   "cell_type": "code",
   "execution_count": 27,
   "id": "0627c402-a531-4c90-840d-7060036dc000",
   "metadata": {},
   "outputs": [],
   "source": [
    "words = []\n",
    "classes = []\n",
    "documents = []\n",
    "ignore = ['?']\n",
    "\n",
    "for intent in intents['intents']:\n",
    "    for pattern in intent['patterns']:\n",
    "        # print(intent)\n",
    "        \n",
    "        ## for word_tokenize, receive as input a word or sentence and convert into a list of words, where each word is an element of the list. \n",
    "        ## example> pattern:'How are you'  --> w:['How', 'are', 'you']\n",
    "        w = nltk.word_tokenize(pattern)  \n",
    "        words.append(w) ## words appends the list, for w, words are: [['Hi'], ['How', 'are', 'you']]\n",
    "        # print(pattern, w, words)\n",
    "\n",
    "        documents.append((w,intent['tag']))\n",
    "        # print(documents)\n",
    "\n",
    "        if intent['tag'] not in classes:\n",
    "            classes.append(intent['tag'])\n",
    "        \n",
    "        # print('*'*30)\n"
   ]
  },
  {
   "cell_type": "code",
   "execution_count": 28,
   "id": "6b9c26f0-1fb8-4969-8709-1f4a92e44335",
   "metadata": {},
   "outputs": [
    {
     "data": {
      "text/plain": [
       "[['Hi'],\n",
       " ['How', 'are', 'you'],\n",
       " ['Is', 'anyone', 'there', '?'],\n",
       " ['Hello'],\n",
       " ['Good', 'day'],\n",
       " ['Bye'],\n",
       " ['See', 'you', 'later'],\n",
       " ['Goodbye'],\n",
       " ['Thanks'],\n",
       " ['Thank', 'you'],\n",
       " ['That', \"'s\", 'helpful'],\n",
       " ['Who', 'built', 'this', 'chatbot', '?'],\n",
       " ['Tell', 'me', 'about', 'Chatbot'],\n",
       " ['What', 'is', 'this', 'chatbot', 'name', '?'],\n",
       " ['What', 'is', 'your', 'location', '?'],\n",
       " ['Where', 'are', 'you', 'located', '?'],\n",
       " ['What', 'is', 'your', 'address', '?'],\n",
       " ['Give', 'me', 'your', 'social', 'media', 'accounts', 'link'],\n",
       " ['Where', 'can', 'we', 'connect'],\n",
       " ['How', 'can', 'i', 'reach', 'out', 'to', 'you', '?'],\n",
       " ['Is', 'there', 'any', 'way', 'we', 'can', 'connect'],\n",
       " ['Which', 'is', 'your', 'favourite', 'movie', '?'],\n",
       " ['Suggest', 'me', 'some', 'movies'],\n",
       " ['Recommend', 'movies'],\n",
       " ['Who', 'are', 'you', '?'],\n",
       " ['Tell', 'me', 'about', 'Yourself'],\n",
       " ['What', 'is', 'this', '?']]"
      ]
     },
     "execution_count": 28,
     "metadata": {},
     "output_type": "execute_result"
    }
   ],
   "source": [
    "words"
   ]
  },
  {
   "cell_type": "code",
   "execution_count": 54,
   "id": "66d8bec6-b20b-483e-977a-ff916c12bea7",
   "metadata": {},
   "outputs": [
    {
     "name": "stdout",
     "output_type": "stream",
     "text": [
      "[['Hi']]\n",
      "[['How', 'are', 'you']]\n",
      "[['Is', 'anyone', 'there', '?']]\n",
      "[['Hello']]\n",
      "[['Good', 'day']]\n",
      "[['Bye']]\n",
      "[['See', 'you', 'later']]\n",
      "[['Goodbye']]\n",
      "[['Thanks']]\n",
      "[['Thank', 'you']]\n",
      "[['That', \"'s\", 'helpful']]\n",
      "[['Who', 'built', 'this', 'chatbot', '?']]\n",
      "[['Tell', 'me', 'about', 'Chatbot']]\n",
      "[['What', 'is', 'this', 'chatbot', 'name', '?']]\n",
      "[['What', 'is', 'your', 'location', '?']]\n",
      "[['Where', 'are', 'you', 'located', '?']]\n",
      "[['What', 'is', 'your', 'address', '?']]\n",
      "[['Give', 'me', 'your', 'social', 'media', 'accounts', 'link']]\n",
      "[['Where', 'can', 'we', 'connect']]\n",
      "[['How', 'can', 'i', 'reach', 'out', 'to', 'you', '?']]\n",
      "[['Is', 'there', 'any', 'way', 'we', 'can', 'connect']]\n",
      "[['Which', 'is', 'your', 'favourite', 'movie', '?']]\n",
      "[['Suggest', 'me', 'some', 'movies']]\n",
      "[['Recommend', 'movies']]\n",
      "[['Who', 'are', 'you', '?']]\n",
      "[['Tell', 'me', 'about', 'Yourself']]\n",
      "[['What', 'is', 'this', '?']]\n"
     ]
    }
   ],
   "source": [
    "for w in words:\n",
    "    w = [w if w not in ignore else null ]\n",
    "    print(w )"
   ]
  },
  {
   "cell_type": "code",
   "execution_count": 64,
   "id": "3aa6cb75-ec1d-4531-8a2a-16a0002bae0d",
   "metadata": {},
   "outputs": [
    {
     "name": "stdout",
     "output_type": "stream",
     "text": [
      "['hi', 'how', 'are', 'you', 'hello', 'good', 'day', 'bye', 'see', 'you', 'later', 'goodby', 'thank', 'thank', 'you', 'that', \"'s\", 'help', 'tell', 'me', 'about', 'chatbot', 'give', 'me', 'your', 'social', 'media', 'account', 'link', 'where', 'can', 'we', 'connect', 'is', 'there', 'ani', 'way', 'we', 'can', 'connect', 'suggest', 'me', 'some', 'movi', 'recommend', 'movi', 'tell', 'me', 'about', 'yourself']\n"
     ]
    }
   ],
   "source": [
    "# words1 = [stemmer.stem(w) for w in words if ignore[0] not in w]\n",
    "# words1 = [w for w in words if  not in ignore]\n",
    "\n",
    "words1 = []\n",
    "words2 = []\n",
    "for w in words:\n",
    "    if ignore[0] not in w:\n",
    "        words1.append(w )\n",
    "\n",
    "# print(words1)\n",
    "for x in words1:\n",
    "    for ii in range(len(x)):\n",
    "        words2.append(x[ii])\n",
    "# print(words2)\n",
    "words1 = [stemmer.stem(w) for w in words2] \n",
    "    # print(ignore[0] in w)\n",
    "print(words1)\n",
    "words = sorted(list(set(words1)))"
   ]
  },
  {
   "cell_type": "code",
   "execution_count": 65,
   "id": "4c2f3690-452b-420d-b16c-68dfff5c503d",
   "metadata": {},
   "outputs": [],
   "source": [
    "classes = sorted(list(set(classes)))"
   ]
  },
  {
   "cell_type": "code",
   "execution_count": 66,
   "id": "36fa771c-cc58-4d18-a3f2-bb5b3151eeac",
   "metadata": {},
   "outputs": [
    {
     "data": {
      "text/plain": [
       "27"
      ]
     },
     "execution_count": 66,
     "metadata": {},
     "output_type": "execute_result"
    }
   ],
   "source": [
    "len(documents)"
   ]
  },
  {
   "cell_type": "code",
   "execution_count": 67,
   "id": "4983f463-a1b0-4a45-af90-149e7ad83c0d",
   "metadata": {},
   "outputs": [
    {
     "data": {
      "text/plain": [
       "8"
      ]
     },
     "execution_count": 67,
     "metadata": {},
     "output_type": "execute_result"
    }
   ],
   "source": [
    "len(classes)"
   ]
  },
  {
   "cell_type": "code",
   "execution_count": 68,
   "id": "412da6ca-769e-421d-a5bb-3c21115a4b24",
   "metadata": {},
   "outputs": [
    {
     "data": {
      "text/plain": [
       "38"
      ]
     },
     "execution_count": 68,
     "metadata": {},
     "output_type": "execute_result"
    }
   ],
   "source": [
    "len(words)"
   ]
  },
  {
   "cell_type": "markdown",
   "id": "d0b7a548-dca0-473e-829f-9af8ad9682da",
   "metadata": {},
   "source": [
    "# Creating Training part"
   ]
  },
  {
   "cell_type": "code",
   "execution_count": 69,
   "id": "cb7a8946-0d81-44a0-a435-762d00aeee53",
   "metadata": {},
   "outputs": [
    {
     "data": {
      "text/plain": [
       "[0, 0, 0, 0, 0, 0, 0, 0]"
      ]
     },
     "execution_count": 69,
     "metadata": {},
     "output_type": "execute_result"
    }
   ],
   "source": [
    "training=[]\n",
    "output = []\n",
    "output_empty = [0]*len(classes)\n",
    "output_empty"
   ]
  },
  {
   "cell_type": "code",
   "execution_count": 81,
   "id": "6313a1e8-fed3-4f1a-a0b3-71c7710eab9d",
   "metadata": {},
   "outputs": [],
   "source": [
    "# create training data\n",
    "training = []\n",
    "output = []\n",
    "# create an empty array for output\n",
    "output_empty = [0] * len(classes)\n",
    "\n",
    "# create training set, bag of words for each sentence\n",
    "for doc in documents:\n",
    "    # initialize bag of words\n",
    "    bag = []\n",
    "    # list of tokenized words for the pattern\n",
    "    pattern_words = doc[0]\n",
    "    # stemming each word\n",
    "    pattern_words = [stemmer.stem(word.lower()) for word in pattern_words]\n",
    "    # create bag of words array\n",
    "    for w in words:\n",
    "        bag.append(1) if w in pattern_words else bag.append(0)\n",
    "\n",
    "    # output is '1' for current tag and '0' for rest of other tags\n",
    "    output_row = list(output_empty)\n",
    "    output_row[classes.index(doc[1])] = 1\n",
    "    training.append([bag, output_row])\n",
    "\n",
    "# shuffling features and turning it into np.array\n",
    "random.shuffle(training)\n",
    "training = np.asarray(training, dtype='object')\n",
    "\n",
    "# creating training lists\n",
    "train_x = list(training[:,0])\n",
    "train_y = list(training[:,1])"
   ]
  },
  {
   "cell_type": "code",
   "execution_count": 82,
   "id": "bdafc4d8-1220-4546-8477-dae498704155",
   "metadata": {},
   "outputs": [
    {
     "name": "stderr",
     "output_type": "stream",
     "text": [
      "D:\\github\\personal-projects\\chatbot\\env_chatbot\\Lib\\site-packages\\keras\\src\\layers\\core\\dense.py:87: UserWarning: Do not pass an `input_shape`/`input_dim` argument to a layer. When using Sequential models, prefer using an `Input(shape)` object as the first layer in the model instead.\n",
      "  super().__init__(activity_regularizer=activity_regularizer, **kwargs)\n"
     ]
    }
   ],
   "source": [
    "model = tf.keras.Sequential()\n",
    "model.add(tf.keras.layers.Dense(10,\n",
    "                                input_shape=(len(train_x[0]),)\n",
    "                               ))\n",
    "model.add(tf.keras.layers.Dense(10))\n",
    "model.add(tf.keras.layers.Dense(len(train_y[0]),\n",
    "                                activation='softmax'))\n",
    "model.compile(tf.keras.optimizers.Adam(),\n",
    "              loss='categorical_crossentropy',\n",
    "              metrics=['accuracy']) "
   ]
  },
  {
   "cell_type": "code",
   "execution_count": 85,
   "id": "bc5647e1-b5bf-4255-92d0-39849b3c450d",
   "metadata": {},
   "outputs": [
    {
     "name": "stdout",
     "output_type": "stream",
     "text": [
      "Epoch 1/50\n",
      "\u001b[1m4/4\u001b[0m \u001b[32m━━━━━━━━━━━━━━━━━━━━\u001b[0m\u001b[37m\u001b[0m \u001b[1m0s\u001b[0m 6ms/step - accuracy: 1.0000 - loss: 0.0092\n",
      "Epoch 2/50\n",
      "\u001b[1m4/4\u001b[0m \u001b[32m━━━━━━━━━━━━━━━━━━━━\u001b[0m\u001b[37m\u001b[0m \u001b[1m0s\u001b[0m 12ms/step - accuracy: 1.0000 - loss: 0.0085\n",
      "Epoch 3/50\n",
      "\u001b[1m4/4\u001b[0m \u001b[32m━━━━━━━━━━━━━━━━━━━━\u001b[0m\u001b[37m\u001b[0m \u001b[1m0s\u001b[0m 4ms/step - accuracy: 1.0000 - loss: 0.0078\n",
      "Epoch 4/50\n",
      "\u001b[1m4/4\u001b[0m \u001b[32m━━━━━━━━━━━━━━━━━━━━\u001b[0m\u001b[37m\u001b[0m \u001b[1m0s\u001b[0m 4ms/step - accuracy: 1.0000 - loss: 0.0104\n",
      "Epoch 5/50\n",
      "\u001b[1m4/4\u001b[0m \u001b[32m━━━━━━━━━━━━━━━━━━━━\u001b[0m\u001b[37m\u001b[0m \u001b[1m0s\u001b[0m 4ms/step - accuracy: 1.0000 - loss: 0.0071\n",
      "Epoch 6/50\n",
      "\u001b[1m4/4\u001b[0m \u001b[32m━━━━━━━━━━━━━━━━━━━━\u001b[0m\u001b[37m\u001b[0m \u001b[1m0s\u001b[0m 4ms/step - accuracy: 1.0000 - loss: 0.0079 \n",
      "Epoch 7/50\n",
      "\u001b[1m4/4\u001b[0m \u001b[32m━━━━━━━━━━━━━━━━━━━━\u001b[0m\u001b[37m\u001b[0m \u001b[1m0s\u001b[0m 4ms/step - accuracy: 1.0000 - loss: 0.0088\n",
      "Epoch 8/50\n",
      "\u001b[1m4/4\u001b[0m \u001b[32m━━━━━━━━━━━━━━━━━━━━\u001b[0m\u001b[37m\u001b[0m \u001b[1m0s\u001b[0m 3ms/step - accuracy: 1.0000 - loss: 0.0088\n",
      "Epoch 9/50\n",
      "\u001b[1m4/4\u001b[0m \u001b[32m━━━━━━━━━━━━━━━━━━━━\u001b[0m\u001b[37m\u001b[0m \u001b[1m0s\u001b[0m 4ms/step - accuracy: 1.0000 - loss: 0.0104\n",
      "Epoch 10/50\n",
      "\u001b[1m4/4\u001b[0m \u001b[32m━━━━━━━━━━━━━━━━━━━━\u001b[0m\u001b[37m\u001b[0m \u001b[1m0s\u001b[0m 4ms/step - accuracy: 1.0000 - loss: 0.0103\n",
      "Epoch 11/50\n",
      "\u001b[1m4/4\u001b[0m \u001b[32m━━━━━━━━━━━━━━━━━━━━\u001b[0m\u001b[37m\u001b[0m \u001b[1m0s\u001b[0m 4ms/step - accuracy: 1.0000 - loss: 0.0079\n",
      "Epoch 12/50\n",
      "\u001b[1m4/4\u001b[0m \u001b[32m━━━━━━━━━━━━━━━━━━━━\u001b[0m\u001b[37m\u001b[0m \u001b[1m0s\u001b[0m 6ms/step - accuracy: 1.0000 - loss: 0.0085\n",
      "Epoch 13/50\n",
      "\u001b[1m4/4\u001b[0m \u001b[32m━━━━━━━━━━━━━━━━━━━━\u001b[0m\u001b[37m\u001b[0m \u001b[1m0s\u001b[0m 3ms/step - accuracy: 1.0000 - loss: 0.0099\n",
      "Epoch 14/50\n",
      "\u001b[1m4/4\u001b[0m \u001b[32m━━━━━━━━━━━━━━━━━━━━\u001b[0m\u001b[37m\u001b[0m \u001b[1m0s\u001b[0m 4ms/step - accuracy: 1.0000 - loss: 0.0075\n",
      "Epoch 15/50\n",
      "\u001b[1m4/4\u001b[0m \u001b[32m━━━━━━━━━━━━━━━━━━━━\u001b[0m\u001b[37m\u001b[0m \u001b[1m0s\u001b[0m 2ms/step - accuracy: 1.0000 - loss: 0.0093\n",
      "Epoch 16/50\n",
      "\u001b[1m4/4\u001b[0m \u001b[32m━━━━━━━━━━━━━━━━━━━━\u001b[0m\u001b[37m\u001b[0m \u001b[1m0s\u001b[0m 3ms/step - accuracy: 1.0000 - loss: 0.0082\n",
      "Epoch 17/50\n",
      "\u001b[1m4/4\u001b[0m \u001b[32m━━━━━━━━━━━━━━━━━━━━\u001b[0m\u001b[37m\u001b[0m \u001b[1m0s\u001b[0m 4ms/step - accuracy: 1.0000 - loss: 0.0089\n",
      "Epoch 18/50\n",
      "\u001b[1m4/4\u001b[0m \u001b[32m━━━━━━━━━━━━━━━━━━━━\u001b[0m\u001b[37m\u001b[0m \u001b[1m0s\u001b[0m 4ms/step - accuracy: 1.0000 - loss: 0.0079\n",
      "Epoch 19/50\n",
      "\u001b[1m4/4\u001b[0m \u001b[32m━━━━━━━━━━━━━━━━━━━━\u001b[0m\u001b[37m\u001b[0m \u001b[1m0s\u001b[0m 4ms/step - accuracy: 1.0000 - loss: 0.0081\n",
      "Epoch 20/50\n",
      "\u001b[1m4/4\u001b[0m \u001b[32m━━━━━━━━━━━━━━━━━━━━\u001b[0m\u001b[37m\u001b[0m \u001b[1m0s\u001b[0m 5ms/step - accuracy: 1.0000 - loss: 0.0093\n",
      "Epoch 21/50\n",
      "\u001b[1m4/4\u001b[0m \u001b[32m━━━━━━━━━━━━━━━━━━━━\u001b[0m\u001b[37m\u001b[0m \u001b[1m0s\u001b[0m 4ms/step - accuracy: 1.0000 - loss: 0.0091 \n",
      "Epoch 22/50\n",
      "\u001b[1m4/4\u001b[0m \u001b[32m━━━━━━━━━━━━━━━━━━━━\u001b[0m\u001b[37m\u001b[0m \u001b[1m0s\u001b[0m 3ms/step - accuracy: 1.0000 - loss: 0.0091\n",
      "Epoch 23/50\n",
      "\u001b[1m4/4\u001b[0m \u001b[32m━━━━━━━━━━━━━━━━━━━━\u001b[0m\u001b[37m\u001b[0m \u001b[1m0s\u001b[0m 3ms/step - accuracy: 1.0000 - loss: 0.0065\n",
      "Epoch 24/50\n",
      "\u001b[1m4/4\u001b[0m \u001b[32m━━━━━━━━━━━━━━━━━━━━\u001b[0m\u001b[37m\u001b[0m \u001b[1m0s\u001b[0m 4ms/step - accuracy: 1.0000 - loss: 0.0064\n",
      "Epoch 25/50\n",
      "\u001b[1m4/4\u001b[0m \u001b[32m━━━━━━━━━━━━━━━━━━━━\u001b[0m\u001b[37m\u001b[0m \u001b[1m0s\u001b[0m 4ms/step - accuracy: 1.0000 - loss: 0.0076\n",
      "Epoch 26/50\n",
      "\u001b[1m4/4\u001b[0m \u001b[32m━━━━━━━━━━━━━━━━━━━━\u001b[0m\u001b[37m\u001b[0m \u001b[1m0s\u001b[0m 4ms/step - accuracy: 1.0000 - loss: 0.0084\n",
      "Epoch 27/50\n",
      "\u001b[1m4/4\u001b[0m \u001b[32m━━━━━━━━━━━━━━━━━━━━\u001b[0m\u001b[37m\u001b[0m \u001b[1m0s\u001b[0m 4ms/step - accuracy: 1.0000 - loss: 0.0084\n",
      "Epoch 28/50\n",
      "\u001b[1m4/4\u001b[0m \u001b[32m━━━━━━━━━━━━━━━━━━━━\u001b[0m\u001b[37m\u001b[0m \u001b[1m0s\u001b[0m 4ms/step - accuracy: 1.0000 - loss: 0.0069\n",
      "Epoch 29/50\n",
      "\u001b[1m4/4\u001b[0m \u001b[32m━━━━━━━━━━━━━━━━━━━━\u001b[0m\u001b[37m\u001b[0m \u001b[1m0s\u001b[0m 3ms/step - accuracy: 1.0000 - loss: 0.0087\n",
      "Epoch 30/50\n",
      "\u001b[1m4/4\u001b[0m \u001b[32m━━━━━━━━━━━━━━━━━━━━\u001b[0m\u001b[37m\u001b[0m \u001b[1m0s\u001b[0m 3ms/step - accuracy: 1.0000 - loss: 0.0072\n",
      "Epoch 31/50\n",
      "\u001b[1m4/4\u001b[0m \u001b[32m━━━━━━━━━━━━━━━━━━━━\u001b[0m\u001b[37m\u001b[0m \u001b[1m0s\u001b[0m 3ms/step - accuracy: 1.0000 - loss: 0.0080\n",
      "Epoch 32/50\n",
      "\u001b[1m4/4\u001b[0m \u001b[32m━━━━━━━━━━━━━━━━━━━━\u001b[0m\u001b[37m\u001b[0m \u001b[1m0s\u001b[0m 4ms/step - accuracy: 1.0000 - loss: 0.0088\n",
      "Epoch 33/50\n",
      "\u001b[1m4/4\u001b[0m \u001b[32m━━━━━━━━━━━━━━━━━━━━\u001b[0m\u001b[37m\u001b[0m \u001b[1m0s\u001b[0m 3ms/step - accuracy: 1.0000 - loss: 0.0083\n",
      "Epoch 34/50\n",
      "\u001b[1m4/4\u001b[0m \u001b[32m━━━━━━━━━━━━━━━━━━━━\u001b[0m\u001b[37m\u001b[0m \u001b[1m0s\u001b[0m 3ms/step - accuracy: 1.0000 - loss: 0.0067\n",
      "Epoch 35/50\n",
      "\u001b[1m4/4\u001b[0m \u001b[32m━━━━━━━━━━━━━━━━━━━━\u001b[0m\u001b[37m\u001b[0m \u001b[1m0s\u001b[0m 4ms/step - accuracy: 1.0000 - loss: 0.0088\n",
      "Epoch 36/50\n",
      "\u001b[1m4/4\u001b[0m \u001b[32m━━━━━━━━━━━━━━━━━━━━\u001b[0m\u001b[37m\u001b[0m \u001b[1m0s\u001b[0m 4ms/step - accuracy: 1.0000 - loss: 0.0065\n",
      "Epoch 37/50\n",
      "\u001b[1m4/4\u001b[0m \u001b[32m━━━━━━━━━━━━━━━━━━━━\u001b[0m\u001b[37m\u001b[0m \u001b[1m0s\u001b[0m 4ms/step - accuracy: 1.0000 - loss: 0.0062\n",
      "Epoch 38/50\n",
      "\u001b[1m4/4\u001b[0m \u001b[32m━━━━━━━━━━━━━━━━━━━━\u001b[0m\u001b[37m\u001b[0m \u001b[1m0s\u001b[0m 4ms/step - accuracy: 1.0000 - loss: 0.0084\n",
      "Epoch 39/50\n",
      "\u001b[1m4/4\u001b[0m \u001b[32m━━━━━━━━━━━━━━━━━━━━\u001b[0m\u001b[37m\u001b[0m \u001b[1m0s\u001b[0m 3ms/step - accuracy: 1.0000 - loss: 0.0069  \n",
      "Epoch 40/50\n",
      "\u001b[1m4/4\u001b[0m \u001b[32m━━━━━━━━━━━━━━━━━━━━\u001b[0m\u001b[37m\u001b[0m \u001b[1m0s\u001b[0m 4ms/step - accuracy: 1.0000 - loss: 0.0068\n",
      "Epoch 41/50\n",
      "\u001b[1m4/4\u001b[0m \u001b[32m━━━━━━━━━━━━━━━━━━━━\u001b[0m\u001b[37m\u001b[0m \u001b[1m0s\u001b[0m 4ms/step - accuracy: 1.0000 - loss: 0.0059\n",
      "Epoch 42/50\n",
      "\u001b[1m4/4\u001b[0m \u001b[32m━━━━━━━━━━━━━━━━━━━━\u001b[0m\u001b[37m\u001b[0m \u001b[1m0s\u001b[0m 5ms/step - accuracy: 1.0000 - loss: 0.0081\n",
      "Epoch 43/50\n",
      "\u001b[1m4/4\u001b[0m \u001b[32m━━━━━━━━━━━━━━━━━━━━\u001b[0m\u001b[37m\u001b[0m \u001b[1m0s\u001b[0m 4ms/step - accuracy: 1.0000 - loss: 0.0085\n",
      "Epoch 44/50\n",
      "\u001b[1m4/4\u001b[0m \u001b[32m━━━━━━━━━━━━━━━━━━━━\u001b[0m\u001b[37m\u001b[0m \u001b[1m0s\u001b[0m 4ms/step - accuracy: 1.0000 - loss: 0.0070\n",
      "Epoch 45/50\n",
      "\u001b[1m4/4\u001b[0m \u001b[32m━━━━━━━━━━━━━━━━━━━━\u001b[0m\u001b[37m\u001b[0m \u001b[1m0s\u001b[0m 4ms/step - accuracy: 1.0000 - loss: 0.0074\n",
      "Epoch 46/50\n",
      "\u001b[1m4/4\u001b[0m \u001b[32m━━━━━━━━━━━━━━━━━━━━\u001b[0m\u001b[37m\u001b[0m \u001b[1m0s\u001b[0m 4ms/step - accuracy: 1.0000 - loss: 0.0063\n",
      "Epoch 47/50\n",
      "\u001b[1m4/4\u001b[0m \u001b[32m━━━━━━━━━━━━━━━━━━━━\u001b[0m\u001b[37m\u001b[0m \u001b[1m0s\u001b[0m 4ms/step - accuracy: 1.0000 - loss: 0.0080\n",
      "Epoch 48/50\n",
      "\u001b[1m4/4\u001b[0m \u001b[32m━━━━━━━━━━━━━━━━━━━━\u001b[0m\u001b[37m\u001b[0m \u001b[1m0s\u001b[0m 4ms/step - accuracy: 1.0000 - loss: 0.0061\n",
      "Epoch 49/50\n",
      "\u001b[1m4/4\u001b[0m \u001b[32m━━━━━━━━━━━━━━━━━━━━\u001b[0m\u001b[37m\u001b[0m \u001b[1m0s\u001b[0m 3ms/step - accuracy: 1.0000 - loss: 0.0065  \n",
      "Epoch 50/50\n",
      "\u001b[1m4/4\u001b[0m \u001b[32m━━━━━━━━━━━━━━━━━━━━\u001b[0m\u001b[37m\u001b[0m \u001b[1m0s\u001b[0m 11ms/step - accuracy: 1.0000 - loss: 0.0081\n"
     ]
    }
   ],
   "source": [
    "model.fit(np.array(train_x),\n",
    "          np.array(train_y),\n",
    "          epochs=50,\n",
    "          batch_size=8,\n",
    "          verbose=1)\n",
    "model.save(\"model.keras\")"
   ]
  },
  {
   "cell_type": "code",
   "execution_count": 86,
   "id": "a0c4f1b4-5980-4b32-a15a-c88dd03835d0",
   "metadata": {},
   "outputs": [],
   "source": [
    "import pickle\n",
    "pickle.dump( {'words':words, 'classes':classes}, open( \"training_data\", \"wb\" ) )"
   ]
  },
  {
   "cell_type": "code",
   "execution_count": 87,
   "id": "4a26f437-9d3f-4a7a-9445-ee14afa7ef94",
   "metadata": {},
   "outputs": [],
   "source": [
    "from keras.models import load_model\n",
    "model = load_model(\"model.keras\")"
   ]
  },
  {
   "cell_type": "code",
   "execution_count": 88,
   "id": "978b9005-1285-44bd-9007-4918c30b4d9f",
   "metadata": {},
   "outputs": [],
   "source": [
    "# restoring all the data structures\n",
    "data = pickle.load( open( \"training_data\", \"rb\" ) )\n",
    "words = data['words']\n",
    "classes = data['classes']"
   ]
  },
  {
   "cell_type": "code",
   "execution_count": 89,
   "id": "5a38bff0-0860-4fca-b3b1-9d6d3a5ac3bd",
   "metadata": {},
   "outputs": [],
   "source": [
    "with open('intents.json') as json_data:\n",
    "    intents = json.load(json_data)"
   ]
  },
  {
   "cell_type": "code",
   "execution_count": 90,
   "id": "181e99ab-2def-4732-8afd-a766c35e5f0e",
   "metadata": {},
   "outputs": [],
   "source": [
    "def clean_up_sentence(sentence):\n",
    "    # tokenizing the pattern\n",
    "    sentence_words = nltk.word_tokenize(sentence)\n",
    "    # stemming each word\n",
    "    sentence_words = [stemmer.stem(word.lower()) for word in sentence_words]\n",
    "    return sentence_words\n",
    "\n",
    "# returning bag of words array: 0 or 1 for each word in the bag that exists in the sentence\n",
    "def bow(sentence, words):\n",
    "    # tokenizing the pattern\n",
    "    sentence_words = clean_up_sentence(sentence)\n",
    "    # generating bag of words\n",
    "    bag = [0]*len(words)  \n",
    "    for s in sentence_words:\n",
    "        for i,w in enumerate(words):\n",
    "            if w == s: \n",
    "                bag[i] = 1\n",
    "    bag=np.array(bag)\n",
    "    return(bag)"
   ]
  },
  {
   "cell_type": "code",
   "execution_count": 101,
   "id": "08b71648-1279-4587-bc9d-de98af8a03aa",
   "metadata": {},
   "outputs": [],
   "source": [
    "ERROR_THRESHOLD = 0.30\n",
    "def classify(sentence):\n",
    "    # generate probabilities from the model\n",
    "    bag = bow(sentence, words)\n",
    "    print(f'Generate a Bag of Words: {bag}')\n",
    "    results = model.predict(np.array([bag]))\n",
    "    # filter out predictions below a threshold\n",
    "    results = [[i,r] for i,r in enumerate(results[0]) if r>ERROR_THRESHOLD]\n",
    "    # sort by strength of probability\n",
    "    results.sort(key=lambda x: x[1], reverse=True)\n",
    "    return_list = []\n",
    "    for r in results:\n",
    "        return_list.append((classes[r[0]], r[1]))\n",
    "    # return tuple of intent and probability\n",
    "    return return_list\n",
    "\n",
    "def response(sentence):\n",
    "    results = classify(sentence)\n",
    "    print(f'Input: {sentence} \\t Results of the NN: {results}')\n",
    "    # if we have a classification then find the matching intent tag\n",
    "    if results:\n",
    "        # loop as long as there are matches to process\n",
    "        while results:\n",
    "            for i in intents['intents']:\n",
    "                # find a tag matching the first result\n",
    "                if i['tag'] == results[0][0]:\n",
    "                    # a random response from the intent\n",
    "                    return print(random.choice(i['responses']))\n",
    "\n",
    "            results.pop(0)"
   ]
  },
  {
   "cell_type": "code",
   "execution_count": 102,
   "id": "3cff5a66-1d65-418b-8957-19387c9a60a1",
   "metadata": {},
   "outputs": [
    {
     "name": "stdout",
     "output_type": "stream",
     "text": [
      "Generate a Bag of Words: [0 0 0 0 1 0 0 0 0 0 0 0 0 0 0 0 0 0 0 0 0 0 0 0 0 0 0 0 0 0 0 0 0 0 1 1 0\n",
      " 0]\n",
      "\u001b[1m1/1\u001b[0m \u001b[32m━━━━━━━━━━━━━━━━━━━━\u001b[0m\u001b[37m\u001b[0m \u001b[1m0s\u001b[0m 31ms/step\n",
      "Input: Where are you located? \t Results of the NN: [('location', np.float32(0.9896382))]\n",
      "You can visit India to meet us\n"
     ]
    }
   ],
   "source": [
    "response('Where are you located?')"
   ]
  },
  {
   "cell_type": "code",
   "execution_count": 99,
   "id": "0128ef3c-79e5-4b5b-aa4c-94e30e2a6a8b",
   "metadata": {},
   "outputs": [
    {
     "name": "stdout",
     "output_type": "stream",
     "text": [
      "\u001b[1m1/1\u001b[0m \u001b[32m━━━━━━━━━━━━━━━━━━━━\u001b[0m\u001b[37m\u001b[0m \u001b[1m0s\u001b[0m 30ms/step\n",
      "Input: Who are you buddy? \t Results of the NN: [('about', np.float32(0.9797886))]\n",
      "Hi, I am Mayank. Nice to meet you. I made this chatbot for fun and practice.\n"
     ]
    }
   ],
   "source": [
    "response(\"Who are you buddy?\")"
   ]
  },
  {
   "cell_type": "code",
   "execution_count": 100,
   "id": "974fb340-694a-4b87-a007-6deac239873f",
   "metadata": {},
   "outputs": [
    {
     "name": "stdout",
     "output_type": "stream",
     "text": [
      "\u001b[1m1/1\u001b[0m \u001b[32m━━━━━━━━━━━━━━━━━━━━\u001b[0m\u001b[37m\u001b[0m \u001b[1m0s\u001b[0m 36ms/step\n",
      "Input: Can you describe yourself? \t Results of the NN: [('connect', np.float32(0.904917))]\n",
      "You can visit https://mayank-bajaj.me\n"
     ]
    }
   ],
   "source": [
    "response(\"Can you describe yourself?\")"
   ]
  },
  {
   "cell_type": "code",
   "execution_count": null,
   "id": "c9d29426-a96f-4543-bbf0-a11c19616153",
   "metadata": {},
   "outputs": [],
   "source": []
  }
 ],
 "metadata": {
  "kernelspec": {
   "display_name": "Python 3 (ipykernel)",
   "language": "python",
   "name": "python3"
  },
  "language_info": {
   "codemirror_mode": {
    "name": "ipython",
    "version": 3
   },
   "file_extension": ".py",
   "mimetype": "text/x-python",
   "name": "python",
   "nbconvert_exporter": "python",
   "pygments_lexer": "ipython3",
   "version": "3.12.4"
  }
 },
 "nbformat": 4,
 "nbformat_minor": 5
}
